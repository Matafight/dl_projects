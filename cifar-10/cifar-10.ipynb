{
 "cells": [
  {
   "cell_type": "code",
   "execution_count": 1,
   "metadata": {},
   "outputs": [],
   "source": [
    "from torchvision import datasets\n",
    "import shutil\n",
    "import tqdm"
   ]
  },
  {
   "cell_type": "code",
   "execution_count": 2,
   "metadata": {},
   "outputs": [],
   "source": [
    "# datasets.CIFAR10(root='./',download=True)"
   ]
  },
  {
   "cell_type": "code",
   "execution_count": 3,
   "metadata": {},
   "outputs": [
    {
     "data": {
      "text/plain": [
       "['.ipynb_checkpoints',\n",
       " '.vs',\n",
       " 'cifar-10-python.tar.gz',\n",
       " 'cifar-10.ipynb',\n",
       " 'data_rearrangement.py',\n",
       " 'sampleSubmission.csv',\n",
       " 'test',\n",
       " 'test.7z',\n",
       " 'test_images',\n",
       " 'train',\n",
       " 'train.7z',\n",
       " 'trainLabels.csv',\n",
       " 'train_images',\n",
       " 'train_images - 快捷方式.lnk']"
      ]
     },
     "execution_count": 3,
     "metadata": {},
     "output_type": "execute_result"
    }
   ],
   "source": [
    "import os\n",
    "os.listdir('./')"
   ]
  },
  {
   "cell_type": "code",
   "execution_count": 4,
   "metadata": {},
   "outputs": [
    {
     "data": {
      "text/html": [
       "<div>\n",
       "<style scoped>\n",
       "    .dataframe tbody tr th:only-of-type {\n",
       "        vertical-align: middle;\n",
       "    }\n",
       "\n",
       "    .dataframe tbody tr th {\n",
       "        vertical-align: top;\n",
       "    }\n",
       "\n",
       "    .dataframe thead th {\n",
       "        text-align: right;\n",
       "    }\n",
       "</style>\n",
       "<table border=\"1\" class=\"dataframe\">\n",
       "  <thead>\n",
       "    <tr style=\"text-align: right;\">\n",
       "      <th></th>\n",
       "      <th>id</th>\n",
       "      <th>label</th>\n",
       "    </tr>\n",
       "  </thead>\n",
       "  <tbody>\n",
       "    <tr>\n",
       "      <td>0</td>\n",
       "      <td>1</td>\n",
       "      <td>frog</td>\n",
       "    </tr>\n",
       "    <tr>\n",
       "      <td>1</td>\n",
       "      <td>2</td>\n",
       "      <td>truck</td>\n",
       "    </tr>\n",
       "    <tr>\n",
       "      <td>2</td>\n",
       "      <td>3</td>\n",
       "      <td>truck</td>\n",
       "    </tr>\n",
       "    <tr>\n",
       "      <td>3</td>\n",
       "      <td>4</td>\n",
       "      <td>deer</td>\n",
       "    </tr>\n",
       "    <tr>\n",
       "      <td>4</td>\n",
       "      <td>5</td>\n",
       "      <td>automobile</td>\n",
       "    </tr>\n",
       "  </tbody>\n",
       "</table>\n",
       "</div>"
      ],
      "text/plain": [
       "   id       label\n",
       "0   1        frog\n",
       "1   2       truck\n",
       "2   3       truck\n",
       "3   4        deer\n",
       "4   5  automobile"
      ]
     },
     "execution_count": 4,
     "metadata": {},
     "output_type": "execute_result"
    }
   ],
   "source": [
    "## 重新安排文件结构\n",
    "## 遍历train文件夹里的文件，提取编号，根据编号获取属于哪一类，然后判断这类的文件夹是否存在，不存在就新建，存在就直接剪切过去\n",
    "import pandas as pd\n",
    "labels=pd.read_csv('trainLabels.csv')\n",
    "labels.head()"
   ]
  },
  {
   "cell_type": "code",
   "execution_count": 5,
   "metadata": {},
   "outputs": [],
   "source": [
    "root_dir='./train/'\n",
    "newroot_dir='./train_images/'\n",
    "\n",
    "## 没有test image 啥事，因为test image本来就没有label\n",
    "# root_dir='./test/'\n",
    "# newroot_dir='./test_images/'"
   ]
  },
  {
   "cell_type": "code",
   "execution_count": 40,
   "metadata": {},
   "outputs": [],
   "source": [
    "for item in os.listdir(root_dir):\n",
    "    classes = extract_name_get_label(item)\n",
    "    npath=dir_exists_and_exists(classes)\n",
    "    item_path=root_dir+item\n",
    "    mv_items(item_path,npath)"
   ]
  },
  {
   "cell_type": "code",
   "execution_count": 20,
   "metadata": {},
   "outputs": [],
   "source": [
    "def extract_name_get_label(name):\n",
    "    index=name.split('.')[0]\n",
    "    return labels.loc[labels.id==int(index),'label'].values[0]\n"
   ]
  },
  {
   "cell_type": "code",
   "execution_count": 21,
   "metadata": {},
   "outputs": [
    {
     "data": {
      "text/plain": [
       "'frog'"
      ]
     },
     "execution_count": 21,
     "metadata": {},
     "output_type": "execute_result"
    }
   ],
   "source": [
    "extract_name_get_label('1.png')"
   ]
  },
  {
   "cell_type": "code",
   "execution_count": 26,
   "metadata": {},
   "outputs": [],
   "source": [
    "def dir_exists_and_exists(classes):\n",
    "    npath = newroot_dir+classes\n",
    "    if not os.path.exists(npath):\n",
    "        os.mkdir(npath)\n",
    "    return npath\n",
    "def mv_items(item_path,npath):\n",
    "    shutil.move(item_path,npath)\n",
    "\n",
    "    "
   ]
  },
  {
   "cell_type": "code",
   "execution_count": 27,
   "metadata": {},
   "outputs": [],
   "source": [
    "# labels.loc[labels.id==100,:]"
   ]
  },
  {
   "cell_type": "code",
   "execution_count": 29,
   "metadata": {},
   "outputs": [],
   "source": [
    "## 划分训练集和测试集\n",
    "## 先看下train_images目录下各个类的样本数量\n",
    "import random\n",
    "valid_ratio = 0.1\n",
    "##对每个类目都随机选择 valid_ratio比例的数据作为验证\n",
    "count={}\n",
    "valid_path = './valid_images'\n",
    "for classes in os.listdir(newroot_dir):\n",
    "    detail_path = os.path.join(newroot_dir,classes)\n",
    "    detail_item = os.listdir(detail_path)\n",
    "    cnt_item=len(detail_item)\n",
    "    ## 随机选择\n",
    "    valid_cnt = int(cnt_item*valid_ratio)\n",
    "    valid_samples=random.sample(detail_item,valid_cnt)\n",
    "    for fname in valid_samples:\n",
    "        \n",
    "        tar_path=os.path.join(valid_path,classes)\n",
    "        if not os.path.exists(tar_path):\n",
    "            os.mkdir(tar_path)\n",
    "        ori_path = os.path.join(detail_path,fname)\n",
    "        mv_items(ori_path,tar_path)\n",
    "    \n",
    "    \n",
    "    \n",
    "    "
   ]
  },
  {
   "cell_type": "code",
   "execution_count": 22,
   "metadata": {},
   "outputs": [
    {
     "data": {
      "text/plain": [
       "['3299.png',\n",
       " '42858.png',\n",
       " '13870.png',\n",
       " '20614.png',\n",
       " '27582.png',\n",
       " '17172.png',\n",
       " '47700.png',\n",
       " '35703.png',\n",
       " '7712.png',\n",
       " '29740.png']"
      ]
     },
     "execution_count": 22,
     "metadata": {},
     "output_type": "execute_result"
    }
   ],
   "source": [
    "##\n",
    "import random\n",
    "random.sample(detail_item,10)"
   ]
  },
  {
   "cell_type": "code",
   "execution_count": 21,
   "metadata": {},
   "outputs": [
    {
     "data": {
      "text/plain": [
       "'1001.png'"
      ]
     },
     "execution_count": 21,
     "metadata": {},
     "output_type": "execute_result"
    }
   ],
   "source": [
    "detail_item[0]"
   ]
  },
  {
   "cell_type": "code",
   "execution_count": null,
   "metadata": {},
   "outputs": [],
   "source": []
  }
 ],
 "metadata": {
  "kernelspec": {
   "display_name": "Python 3",
   "language": "python",
   "name": "python3"
  },
  "language_info": {
   "codemirror_mode": {
    "name": "ipython",
    "version": 3
   },
   "file_extension": ".py",
   "mimetype": "text/x-python",
   "name": "python",
   "nbconvert_exporter": "python",
   "pygments_lexer": "ipython3",
   "version": "3.7.4"
  }
 },
 "nbformat": 4,
 "nbformat_minor": 2
}
